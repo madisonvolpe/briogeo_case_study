{
 "cells": [
  {
   "cell_type": "code",
   "execution_count": 1,
   "metadata": {},
   "outputs": [],
   "source": [
    "from bs4 import BeautifulSoup\n",
    "import pandas as pd\n",
    "import re\n",
    "import html5lib\n",
    "from urllib import request"
   ]
  },
  {
   "cell_type": "code",
   "execution_count": 2,
   "metadata": {},
   "outputs": [],
   "source": [
    "urls = [\"https://www.makeupalley.com/product/showreview.asp/ItemId=174309/Briogeo-Dont-Despair,-Repair!--Deep-Conditioning-Mask/Briogeo/Hair-Treatments?page=1#reviews\",\n",
    "        \"https://www.makeupalley.com/product/showreview.asp/ItemId=174309/Briogeo-Dont-Despair,-Repair!--Deep-Conditioning-Mask/Briogeo/Hair-Treatments?page=2#reviews\",\n",
    "        \"https://www.makeupalley.com/product/showreview.asp/ItemId=174309/Briogeo-Dont-Despair,-Repair!--Deep-Conditioning-Mask/Briogeo/Hair-Treatments?page=3#reviews\",\n",
    "        \"https://www.makeupalley.com/product/showreview.asp/ItemId=174309/Briogeo-Dont-Despair,-Repair!--Deep-Conditioning-Mask/Briogeo/Hair-Treatments?page=4#reviews\",\n",
    "        \"https://www.makeupalley.com/product/showreview.asp/ItemId=174309/Briogeo-Dont-Despair,-Repair!--Deep-Conditioning-Mask/Briogeo/Hair-Treatments?page=5#reviews\"\n",
    "       ]"
   ]
  },
  {
   "cell_type": "code",
   "execution_count": 3,
   "metadata": {},
   "outputs": [],
   "source": [
    "page = request.urlopen(urls[0])\n",
    "soup = BeautifulSoup(page, 'lxml')"
   ]
  },
  {
   "cell_type": "code",
   "execution_count": 9,
   "metadata": {},
   "outputs": [],
   "source": [
    "ratings_raw = soup.findAll('span', {'class': 'rating-value'}, limit = 10)\n",
    "ratings_raw = [str(i) for i in ratings_raw]\n",
    "ratings = [re.search('\\d{1}\\.\\d{1}', i).group(0) for i in ratings_raw]\n"
   ]
  },
  {
   "cell_type": "code",
   "execution_count": 34,
   "metadata": {},
   "outputs": [],
   "source": [
    "rate_yr = soup.findAll('div', {'class': 'date'}, limit =10)\n",
    "rate_yr = [i.p.text for i in rate_yr]\n"
   ]
  },
  {
   "cell_type": "code",
   "execution_count": 38,
   "metadata": {},
   "outputs": [
    {
     "ename": "TypeError",
     "evalue": "dict expected at most 1 arguments, got 2",
     "output_type": "error",
     "traceback": [
      "\u001b[0;31m---------------------------------------------------------------------------\u001b[0m",
      "\u001b[0;31mTypeError\u001b[0m                                 Traceback (most recent call last)",
      "\u001b[0;32m<ipython-input-38-94168d4e7ad9>\u001b[0m in \u001b[0;36m<module>\u001b[0;34m()\u001b[0m\n\u001b[0;32m----> 1\u001b[0;31m \u001b[0mdict\u001b[0m\u001b[0;34m(\u001b[0m\u001b[0mratings_raw\u001b[0m\u001b[0;34m,\u001b[0m \u001b[0mrate_yr\u001b[0m\u001b[0;34m)\u001b[0m\u001b[0;34m\u001b[0m\u001b[0;34m\u001b[0m\u001b[0m\n\u001b[0m",
      "\u001b[0;31mTypeError\u001b[0m: dict expected at most 1 arguments, got 2"
     ]
    }
   ],
   "source": [
    "dict_key = [\"rating\", \"rating year\"]\n"
   ]
  },
  {
   "cell_type": "code",
   "execution_count": null,
   "metadata": {},
   "outputs": [],
   "source": []
  }
 ],
 "metadata": {
  "kernelspec": {
   "display_name": "Python 3",
   "language": "python",
   "name": "python3"
  },
  "language_info": {
   "codemirror_mode": {
    "name": "ipython",
    "version": 3
   },
   "file_extension": ".py",
   "mimetype": "text/x-python",
   "name": "python",
   "nbconvert_exporter": "python",
   "pygments_lexer": "ipython3",
   "version": "3.6.8"
  }
 },
 "nbformat": 4,
 "nbformat_minor": 2
}
