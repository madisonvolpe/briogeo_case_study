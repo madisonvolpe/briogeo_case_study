{
 "cells": [
  {
   "cell_type": "code",
   "execution_count": 1,
   "metadata": {},
   "outputs": [],
   "source": [
    "# import libraries\n",
    "from selenium import webdriver\n",
    "from selenium.webdriver.common.keys import Keys\n",
    "from bs4 import BeautifulSoup\n",
    "import re\n",
    "import pandas as pd\n",
    "import requests\n",
    "import html5lib\n",
    "import sys\n",
    "from selenium.common.exceptions import NoSuchElementException\n",
    "from selenium.common.exceptions import StaleElementReferenceException\n",
    "from selenium.webdriver.firefox.firefox_binary import FirefoxBinary\n",
    "from selenium.webdriver.common.desired_capabilities import DesiredCapabilities\n",
    "from selenium.webdriver.support.ui import WebDriverWait\n",
    "from selenium.webdriver.support import expected_conditions as EC\n",
    "from selenium.webdriver.common.by import By\n",
    "from selenium.webdriver.common.action_chains import ActionChains\n",
    "import time\n",
    "import numpy as np\n",
    "import os"
   ]
  },
  {
   "cell_type": "code",
   "execution_count": 2,
   "metadata": {},
   "outputs": [],
   "source": [
    "url = \"https://www.ulta.com/p/dont-despair-repair-deep-conditioning-hair-mask-pimprod2021375\"\n",
    "driver = webdriver.Firefox() \n",
    "driver.get(url)"
   ]
  },
  {
   "cell_type": "code",
   "execution_count": 3,
   "metadata": {},
   "outputs": [],
   "source": [
    "ulta_bsObjs = []\n",
    "\n",
    "for i in range(306):\n",
    "    try: \n",
    "        # scroll to bottom of page\n",
    "        driver.execute_script(\"window.scrollTo(0, document.body.scrollHeight);\")\n",
    "        # collect html \n",
    "        html = driver.page_source\n",
    "        # \"BeautifulSoup\" the html and append to ulta_bsObjs list\n",
    "        ulta_bsObjs.append(BeautifulSoup(html, \"html.parser\"))\n",
    "        # Wait...\n",
    "        time.sleep(3)\n",
    "        # Click next button\n",
    "        next_btn = driver.find_element_by_xpath('//a[@class=\"pr-rd-pagination-btn\" and contains(text(),\"Next\")]')\n",
    "        next_btn.click()\n",
    "    except NoSuchElementException:\n",
    "        pass"
   ]
  },
  {
   "cell_type": "code",
   "execution_count": 66,
   "metadata": {},
   "outputs": [],
   "source": [
    "def create_ulta_ds(bsObj):\n",
    "    \n",
    "    # ratings\n",
    "    ratings_raw = bsObj.findAll('div', {'class': 'pr-snippet-rating-decimal'})\n",
    "    ratings_raw = ratings_raw[3:13]\n",
    "    ratings = [rating.text for rating in ratings_raw]\n",
    "    \n",
    "    # locations\n",
    "    locs_raw = bsObj.findAll('p', {'class': 'pr-rd-details pr-rd-author-location'})\n",
    "    locs = [loc.text for loc in locs_raw]\n",
    "    locs = [loc.replace('From\\xa0', \"\") for loc in locs]\n",
    "    \n",
    "    # submit_dts\n",
    "    submit_dts = bsObj.time.attrs['datetime']\n",
    "    \n",
    "    # user name\n",
    "    usernames_raw = bsObj.findAll('p', {'class': 'pr-rd-details pr-rd-author-nickname'})\n",
    "    usernames = [username.text for username in usernames_raw]\n",
    "    usernames = [username.replace('By', \"\") for username in usernames]\n",
    "    \n",
    "    # review paragraph \n",
    "    review_pars = bsObj.findAll('p', {'class': 'pr-rd-description-text'})\n",
    "    reviews = [review.text for review in review_pars]\n",
    "\n",
    "    # create dataframe \n",
    "    brio_dat = {'Rating': ratings, 'Location': locs, 'Rating_Submit_Dt': submit_dts, 'Username': usernames, 'Review': reviews}\n",
    "    brio_ulta_df = pd.DataFrame(brio_dat)\n",
    "    \n",
    "    return brio_ulta_df\n"
   ]
  },
  {
   "cell_type": "code",
   "execution_count": 67,
   "metadata": {},
   "outputs": [],
   "source": [
    "# Loop through list of urls and apply create_ulta_ds function\n",
    "brio_ulta_rating_df = [create_ulta_ds(ulta_bsObj) for ulta_bsObj in ulta_bsObjs]"
   ]
  },
  {
   "cell_type": "code",
   "execution_count": 68,
   "metadata": {},
   "outputs": [],
   "source": [
    "# Convert list of dataframes to one dataframe\n",
    "brio_ulta_rating_df = pd.concat(brio_ulta_rating_df)\n",
    "brio_ulta_rating_df = brio_ulta_rating_df.reset_index(drop = True)"
   ]
  },
  {
   "cell_type": "code",
   "execution_count": 69,
   "metadata": {},
   "outputs": [],
   "source": [
    "# drop duplicates\n",
    "brio_ulta_rating_df = brio_ulta_rating_df.drop_duplicates()"
   ]
  },
  {
   "cell_type": "code",
   "execution_count": 71,
   "metadata": {},
   "outputs": [],
   "source": [
    "# Write dataframe to csv\n",
    "path = os.getcwd() + '/data/briogeo_rating_ulta.csv'\n",
    "brio_ulta_rating_df.to_csv(path)"
   ]
  }
 ],
 "metadata": {
  "kernelspec": {
   "display_name": "Python 3",
   "language": "python",
   "name": "python3"
  },
  "language_info": {
   "codemirror_mode": {
    "name": "ipython",
    "version": 3
   },
   "file_extension": ".py",
   "mimetype": "text/x-python",
   "name": "python",
   "nbconvert_exporter": "python",
   "pygments_lexer": "ipython3",
   "version": "3.6.8"
  }
 },
 "nbformat": 4,
 "nbformat_minor": 2
}
