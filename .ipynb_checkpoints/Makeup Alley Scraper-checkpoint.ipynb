{
 "cells": [
  {
   "cell_type": "code",
   "execution_count": 1,
   "metadata": {},
   "outputs": [],
   "source": [
    "from bs4 import BeautifulSoup\n",
    "import pandas as pd\n",
    "import re\n",
    "import html5lib\n",
    "from urllib import request"
   ]
  },
  {
   "cell_type": "code",
   "execution_count": 2,
   "metadata": {},
   "outputs": [],
   "source": [
    "urls = [\"https://www.makeupalley.com/product/showreview.asp/ItemId=174309/Briogeo-Dont-Despair,-Repair!--Deep-Conditioning-Mask/Briogeo/Hair-Treatments?page=1#reviews\",\n",
    "        \"https://www.makeupalley.com/product/showreview.asp/ItemId=174309/Briogeo-Dont-Despair,-Repair!--Deep-Conditioning-Mask/Briogeo/Hair-Treatments?page=2#reviews\",\n",
    "        \"https://www.makeupalley.com/product/showreview.asp/ItemId=174309/Briogeo-Dont-Despair,-Repair!--Deep-Conditioning-Mask/Briogeo/Hair-Treatments?page=3#reviews\",\n",
    "        \"https://www.makeupalley.com/product/showreview.asp/ItemId=174309/Briogeo-Dont-Despair,-Repair!--Deep-Conditioning-Mask/Briogeo/Hair-Treatments?page=4#reviews\",\n",
    "        \"https://www.makeupalley.com/product/showreview.asp/ItemId=174309/Briogeo-Dont-Despair,-Repair!--Deep-Conditioning-Mask/Briogeo/Hair-Treatments?page=5#reviews\"\n",
    "       ]"
   ]
  },
  {
   "cell_type": "code",
   "execution_count": 6,
   "metadata": {},
   "outputs": [],
   "source": [
    "page = request.urlopen(urls[0])\n",
    "soup = BeautifulSoup(page, 'lxml')\n",
    "\n",
    "\n"
   ]
  },
  {
   "cell_type": "code",
   "execution_count": 34,
   "metadata": {},
   "outputs": [],
   "source": [
    "ratings_raw = soup.findAll('span', {'class': 'rating-value'}, limit = 10)\n",
    "ratings_raw = [str(i) for i in ratings_raw]"
   ]
  },
  {
   "cell_type": "code",
   "execution_count": 41,
   "metadata": {},
   "outputs": [],
   "source": [
    "ratings = [re.findall('\\d{1}\\.\\d{1}', i) for i in ratings_raw]\n",
    "\n"
   ]
  },
  {
   "cell_type": "code",
   "execution_count": null,
   "metadata": {},
   "outputs": [],
   "source": [
    "rate_yr = soup.findAll('div', {'class': 'date'}, limit =10)\n"
   ]
  },
  {
   "cell_type": "code",
   "execution_count": null,
   "metadata": {},
   "outputs": [],
   "source": []
  }
 ],
 "metadata": {
  "kernelspec": {
   "display_name": "Python 3",
   "language": "python",
   "name": "python3"
  },
  "language_info": {
   "codemirror_mode": {
    "name": "ipython",
    "version": 3
   },
   "file_extension": ".py",
   "mimetype": "text/x-python",
   "name": "python",
   "nbconvert_exporter": "python",
   "pygments_lexer": "ipython3",
   "version": "3.6.8"
  }
 },
 "nbformat": 4,
 "nbformat_minor": 2
}
