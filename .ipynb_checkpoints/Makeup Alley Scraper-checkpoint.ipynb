{
 "cells": [
  {
   "cell_type": "code",
   "execution_count": 41,
   "metadata": {},
   "outputs": [],
   "source": [
    "# import libraries\n",
    "from bs4 import BeautifulSoup\n",
    "import pandas as pd\n",
    "import re\n",
    "import html5lib\n",
    "from urllib import request\n",
    "import os"
   ]
  },
  {
   "cell_type": "code",
   "execution_count": 32,
   "metadata": {},
   "outputs": [],
   "source": [
    "# create list of urls\n",
    "urls = [\"https://www.makeupalley.com/product/showreview.asp/ItemId=174309/Briogeo-Dont-Despair,-Repair!--Deep-Conditioning-Mask/Briogeo/Hair-Treatments?page=1#reviews\",\n",
    "        \"https://www.makeupalley.com/product/showreview.asp/ItemId=174309/Briogeo-Dont-Despair,-Repair!--Deep-Conditioning-Mask/Briogeo/Hair-Treatments?page=2#reviews\",\n",
    "        \"https://www.makeupalley.com/product/showreview.asp/ItemId=174309/Briogeo-Dont-Despair,-Repair!--Deep-Conditioning-Mask/Briogeo/Hair-Treatments?page=3#reviews\",\n",
    "        \"https://www.makeupalley.com/product/showreview.asp/ItemId=174309/Briogeo-Dont-Despair,-Repair!--Deep-Conditioning-Mask/Briogeo/Hair-Treatments?page=4#reviews\",\n",
    "        \"https://www.makeupalley.com/product/showreview.asp/ItemId=174309/Briogeo-Dont-Despair,-Repair!--Deep-Conditioning-Mask/Briogeo/Hair-Treatments?page=5#reviews\"\n",
    "       ]"
   ]
  },
  {
   "cell_type": "code",
   "execution_count": 33,
   "metadata": {},
   "outputs": [],
   "source": [
    "# create function to scrape Makeup Alley Website\n",
    "def MakeupAlleyScrape(url):\n",
    "    \n",
    "    page = request.urlopen(url)\n",
    "    soup = BeautifulSoup(page, 'lxml')\n",
    "    \n",
    "    # pull rating from website\n",
    "    ratings_raw = soup.findAll('span', {'class': 'rating-value'}, limit = 10)\n",
    "    ratings_raw = [str(i) for i in ratings_raw]\n",
    "    ratings = [re.search('\\d{1}\\.\\d{1}', i).group(0) for i in ratings_raw]\n",
    "    \n",
    "    # pull date of rating from website\n",
    "    rate_yr = soup.findAll('div', {'class': 'date'}, limit =10)\n",
    "    rate_yr = [i.p.text for i in rate_yr]\n",
    "    \n",
    "    # create dataframe \n",
    "    brio_dat = {'Rating': ratings, 'Rating Date': rate_yr}\n",
    "    brio_df = pd.DataFrame(brio_dat)\n",
    "    \n",
    "    return brio_df"
   ]
  },
  {
   "cell_type": "code",
   "execution_count": 37,
   "metadata": {},
   "outputs": [],
   "source": [
    "# Loop through list of urls and apply MakeupAlleyScrape function\n",
    "brio_rating_df = [MakeupAlleyScrape(url) for url in urls]"
   ]
  },
  {
   "cell_type": "code",
   "execution_count": 38,
   "metadata": {},
   "outputs": [],
   "source": [
    "# Convert list of dataframes to one dataframe\n",
    "brio_rating_df = pd.concat(brio_rating_df)"
   ]
  },
  {
   "cell_type": "code",
   "execution_count": 39,
   "metadata": {},
   "outputs": [],
   "source": [
    "# Reset row index in list of dataframes\n",
    "brio_rating_df = brio_rating_df.reset_index(drop = True)"
   ]
  },
  {
   "cell_type": "code",
   "execution_count": 46,
   "metadata": {},
   "outputs": [],
   "source": [
    "# Write dataframe to csv\n",
    "path = os.getcwd() + '/data/briogeo_rating_makeupalley.csv'\n",
    "brio_rating_df.to_csv(path)"
   ]
  },
  {
   "cell_type": "code",
   "execution_count": null,
   "metadata": {},
   "outputs": [],
   "source": []
  }
 ],
 "metadata": {
  "kernelspec": {
   "display_name": "Python 3",
   "language": "python",
   "name": "python3"
  },
  "language_info": {
   "codemirror_mode": {
    "name": "ipython",
    "version": 3
   },
   "file_extension": ".py",
   "mimetype": "text/x-python",
   "name": "python",
   "nbconvert_exporter": "python",
   "pygments_lexer": "ipython3",
   "version": "3.6.8"
  }
 },
 "nbformat": 4,
 "nbformat_minor": 2
}
