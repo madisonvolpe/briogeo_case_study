{
 "cells": [
  {
   "cell_type": "code",
   "execution_count": 1,
   "metadata": {},
   "outputs": [],
   "source": [
    "# import libraries\n",
    "import pandas as pd\n",
    "import nltk\n",
    "from nltk.sentiment import SentimentIntensityAnalyzer\n",
    "from nltk.corpus import stopwords"
   ]
  },
  {
   "cell_type": "code",
   "execution_count": 2,
   "metadata": {},
   "outputs": [],
   "source": [
    "# create SentimentIntensityAnalyzer \n",
    "sia = SentimentIntensityAnalyzer()\n",
    "# create stopwords object\n",
    "stop_words = stopwords.words('english')"
   ]
  },
  {
   "cell_type": "code",
   "execution_count": 3,
   "metadata": {},
   "outputs": [],
   "source": [
    "# load dataframe\n",
    "brio = pd.read_csv(\"./data/briogeo_rating_ulta.csv\")"
   ]
  },
  {
   "cell_type": "code",
   "execution_count": 113,
   "metadata": {},
   "outputs": [],
   "source": [
    "# create long dataframe of each review tokenized\n",
    "\n",
    "w_dict = {'Review_ID': [],'Rating_Submit_Dt': [],'Words': []}\n",
    "\n",
    "for i in range(len(brio.Review)):\n",
    "    # save review id\n",
    "    w_dict['Review_ID'].append(brio.Review_ID[i])\n",
    "    # save review submit date\n",
    "    w_dict['Rating_Submit_Dt'].append(brio.Rating_Submit_Dt[i])\n",
    "    # tokenize each review\n",
    "    review = brio.Review[i]\n",
    "    review = review.replace(\"'\", \"\")\n",
    "    review = review.lower()\n",
    "    review = nltk.word_tokenize(review)\n",
    "    review = [w for w in review if not w in stop_words]\n",
    "    review = [w for w in review if w.isalpha()]\n",
    "    w_dict['Words'].append(review)    "
   ]
  },
  {
   "cell_type": "code",
   "execution_count": 116,
   "metadata": {},
   "outputs": [],
   "source": [
    "# convert dictionary to dataframe\n",
    "w_df = pd.DataFrame(w_dict)\n",
    "# create a long dataframe - each review id is repreated for each word in review\n",
    "w_df_final = w_df.explode('Words')\n",
    "# save dataframe \n",
    "w_df_final.to_csv(\"./data/briogeo_ulta_rating_wordlist.csv\")"
   ]
  },
  {
   "cell_type": "code",
   "execution_count": 25,
   "metadata": {},
   "outputs": [
    {
     "data": {
      "text/plain": [
       "['The best',\n",
       " 'best deep',\n",
       " 'deep conditioning',\n",
       " 'conditioning mask',\n",
       " 'mask to',\n",
       " 'to replenish',\n",
       " 'replenish moisture',\n",
       " 'moisture to',\n",
       " 'to your',\n",
       " 'your hair.',\n",
       " 'hair. I',\n",
       " 'I have',\n",
       " 'have color',\n",
       " 'color treated',\n",
       " 'treated hair',\n",
       " 'hair so',\n",
       " 'so this',\n",
       " 'this helps',\n",
       " 'helps keep',\n",
       " 'keep it',\n",
       " 'it healthy',\n",
       " 'healthy and',\n",
       " 'and feeling',\n",
       " 'feeling soft.',\n",
       " \"soft. It's\",\n",
       " \"It's a\",\n",
       " 'a bit',\n",
       " 'bit expensive',\n",
       " 'expensive for',\n",
       " 'for the',\n",
       " 'the full',\n",
       " 'full size',\n",
       " 'size bottle',\n",
       " 'bottle but',\n",
       " 'but a',\n",
       " 'a little',\n",
       " 'little goes',\n",
       " 'goes a',\n",
       " 'a long',\n",
       " 'long way',\n",
       " 'way so',\n",
       " 'so it',\n",
       " 'it will',\n",
       " 'will last',\n",
       " 'last you',\n",
       " 'you a',\n",
       " 'a long',\n",
       " 'long time.']"
      ]
     },
     "execution_count": 25,
     "metadata": {},
     "output_type": "execute_result"
    }
   ],
   "source": [
    "# create bigrams of the review \n",
    "ex = brio.Review[25]\n",
    "ex = nltk.words_tokenize(ex)\n",
    "\n",
    "ex2 = list(nltk.bigrams(ex.split()))\n",
    "\n",
    "[' '.join(tup) for tup in ex2]"
   ]
  },
  {
   "cell_type": "code",
   "execution_count": 124,
   "metadata": {},
   "outputs": [],
   "source": [
    "# run VADER sentiment analysis and save pos, negative, neutral, compound scores to dataframe for each review\n",
    "brio[\"Positive\"] = [sia.polarity_scores(i)[\"pos\"] for i in brio[\"Review\"]]\n",
    "brio[\"Negative\"] = [sia.polarity_scores(i)[\"neg\"] for i in brio[\"Review\"]]\n",
    "brio[\"Neutral\"] = [sia.polarity_scores(i)[\"neu\"] for i in brio[\"Review\"]]\n",
    "brio[\"Compound\"] = [sia.polarity_scores(i)['compound'] for i in brio[\"Review\"]]"
   ]
  },
  {
   "cell_type": "code",
   "execution_count": 126,
   "metadata": {},
   "outputs": [],
   "source": [
    "# save dataframe with scores \n",
    "brio.to_csv(\"./data/briogeo_ulta_rating_sentiment_scores.csv\")"
   ]
  }
 ],
 "metadata": {
  "kernelspec": {
   "display_name": "Python 3 (ipykernel)",
   "language": "python",
   "name": "python3"
  },
  "language_info": {
   "codemirror_mode": {
    "name": "ipython",
    "version": 3
   },
   "file_extension": ".py",
   "mimetype": "text/x-python",
   "name": "python",
   "nbconvert_exporter": "python",
   "pygments_lexer": "ipython3",
   "version": "3.9.12"
  }
 },
 "nbformat": 4,
 "nbformat_minor": 2
}
